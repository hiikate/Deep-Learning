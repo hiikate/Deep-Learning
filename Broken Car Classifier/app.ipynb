{
 "cells": [
  {
   "cell_type": "code",
   "execution_count": null,
   "metadata": {},
   "outputs": [],
   "source": [
    "! pip install -q gradio"
   ]
  },
  {
   "cell_type": "code",
   "execution_count": null,
   "metadata": {},
   "outputs": [],
   "source": [
    "#\\export\n",
    "from fastai.vision.all import *\n",
    "import gradio as gr"
   ]
  },
  {
   "cell_type": "code",
   "execution_count": null,
   "metadata": {},
   "outputs": [],
   "source": [
    "learn = load_learner('model.pkl')"
   ]
  },
  {
   "cell_type": "code",
   "execution_count": null,
   "metadata": {},
   "outputs": [],
   "source": [
    "im = PILImage.create('broken_car.jpg')"
   ]
  },
  {
   "cell_type": "code",
   "execution_count": null,
   "metadata": {},
   "outputs": [],
   "source": [
    "learn.predict(im)"
   ]
  },
  {
   "cell_type": "code",
   "execution_count": null,
   "metadata": {},
   "outputs": [],
   "source": [
    "#\\export\n",
    "categories = ('Broken', 'Normal')\n",
    "\n",
    "def classifty_image(img):\n",
    "    pred, idx, prob = learn.predict(img)\n",
    "    return dict(zip(categories, map(float,prob)))"
   ]
  },
  {
   "cell_type": "code",
   "execution_count": null,
   "metadata": {},
   "outputs": [],
   "source": [
    "classify_image(im)"
   ]
  },
  {
   "cell_type": "code",
   "execution_count": null,
   "metadata": {},
   "outputs": [],
   "source": [
    "#\\export\n",
    "from doctest import Example\n",
    "\n",
    "\n",
    "image = gr.Image()\n",
    "label = gr.Label()\n",
    "examples = ['Broken_car.jpg','normal_car.jpg']\n",
    "\n",
    "demo = gr.Interface(fn=classify_image, inputs=image, outputs=label, examples=examples, allow_flagging = \"never\", thumbnail=thumbnail)\n",
    "demo.launch(inline=False)"
   ]
  }
 ],
 "metadata": {
  "kernelspec": {
   "display_name": "Python 3.10.6 ('base')",
   "language": "python",
   "name": "python3"
  },
  "language_info": {
   "codemirror_mode": {
    "name": "ipython",
    "version": 3
   },
   "file_extension": ".py",
   "mimetype": "text/x-python",
   "name": "python",
   "nbconvert_exporter": "python",
   "pygments_lexer": "ipython3",
   "version": "3.10.6"
  },
  "orig_nbformat": 4,
  "vscode": {
   "interpreter": {
    "hash": "de7cb0b1218c3fc8713775238ab21314d73326b1c691e0df13913a336de394b8"
   }
  }
 },
 "nbformat": 4,
 "nbformat_minor": 2
}
